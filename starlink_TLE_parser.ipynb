{
  "nbformat": 4,
  "nbformat_minor": 0,
  "metadata": {
    "colab": {
      "provenance": [],
      "authorship_tag": "ABX9TyM2C2I+/m5bnfWsqq2mfMpi",
      "include_colab_link": true
    },
    "kernelspec": {
      "name": "python3",
      "display_name": "Python 3"
    },
    "language_info": {
      "name": "python"
    }
  },
  "cells": [
    {
      "cell_type": "markdown",
      "metadata": {
        "id": "view-in-github",
        "colab_type": "text"
      },
      "source": [
        "<a href=\"https://colab.research.google.com/github/gd-Sahat/TL-LEO-POD/blob/main/starlink_TLE_parser.ipynb\" target=\"_parent\"><img src=\"https://colab.research.google.com/assets/colab-badge.svg\" alt=\"Open In Colab\"/></a>"
      ]
    },
    {
      "cell_type": "code",
      "execution_count": null,
      "metadata": {
        "colab": {
          "base_uri": "https://localhost:8080/"
        },
        "id": "Gs1F-nUhMmIH",
        "outputId": "5d2d8c9c-3aab-47cf-e32b-191f30ea2adf"
      },
      "outputs": [
        {
          "output_type": "stream",
          "name": "stdout",
          "text": [
            "              name                                              line1  \\\n",
            "0  0 STARLINK-1008  1 44714U 19074B   25170.57310755  .00000440  0...   \n",
            "1  0 STARLINK-1010  1 44716U 19074D   25170.02404143  .00086974  0...   \n",
            "2  0 STARLINK-1010  1 44716U 19074D   25170.02404143  .00086974  0...   \n",
            "3  0 STARLINK-1010  1 44716U 19074D   25170.54009606  .00068862  0...   \n",
            "4  0 STARLINK-1011  1 44717U 19074E   25170.37959632 -.00000032  0...   \n",
            "\n",
            "                                               line2  \\\n",
            "0  2 44714  53.0561 287.7961 0001413  93.6781 266...   \n",
            "1  2 44716  53.0558 278.0056 0005786 290.8872  69...   \n",
            "2  2 44716  53.0558 278.0056 0005786 290.8872  69...   \n",
            "3  2 44716  53.0557 275.5311 0005884 293.1051  66...   \n",
            "4  2 44717  53.0555 308.6645 0001099  86.4854 273...   \n",
            "\n",
            "              epoch_datetime  \n",
            "0 2025-06-19 13:45:16.492320  \n",
            "1 2025-06-19 00:34:37.179552  \n",
            "2 2025-06-19 00:34:37.179552  \n",
            "3 2025-06-19 12:57:44.299584  \n",
            "4 2025-06-19 09:06:37.122048  \n"
          ]
        }
      ],
      "source": [
        "import pandas as pd\n",
        "import pandas as pd\n",
        "from datetime import datetime, timedelta\n",
        "\n",
        "def tle_epoch_to_datetime(tle_epoch_str):\n",
        "    \"\"\"\n",
        "    Convert TLE epoch string (YYDDD.DDDDDDDD) to Python datetime.\n",
        "    \"\"\"\n",
        "    year = int(tle_epoch_str[:2])\n",
        "    year += 2000 if year < 57 else 1900  # TLE epochs: 00-56=>2000-2056, 57-99=>1957-1999\n",
        "    day_of_year = float(tle_epoch_str[2:])\n",
        "    day_int = int(day_of_year)\n",
        "    frac = day_of_year - day_int\n",
        "    dt = datetime(year, 1, 1) + timedelta(days=day_int - 1, seconds=frac * 86400)\n",
        "    return dt\n",
        "\n",
        "input_file = '3le-spacetrack.txt'\n",
        "starlink_tles = []\n",
        "\n",
        "with open(input_file, 'r') as f:\n",
        "    lines = f.readlines()\n",
        "    i = 0\n",
        "    while i < len(lines) - 2:\n",
        "        name = lines[i].strip()\n",
        "        line1 = lines[i+1].strip()\n",
        "        line2 = lines[i+2].strip()\n",
        "        if 'STARLINK' in name:\n",
        "            # Extract TLE epoch from line1 (fields separated by whitespace, epoch is 4th field)\n",
        "            fields = line1.split()\n",
        "            epoch_str = fields[3]\n",
        "            epoch_dt = tle_epoch_to_datetime(epoch_str)\n",
        "            starlink_tles.append({\n",
        "                'name': name,\n",
        "                'line1': line1,\n",
        "                'line2': line2,\n",
        "                'epoch_datetime': epoch_dt\n",
        "            })\n",
        "        i += 3\n",
        "\n",
        "df_starlink = pd.DataFrame(starlink_tles)\n",
        "print(df_starlink.head())\n",
        "\n",
        "# Optionally, save to CSV\n",
        "df_starlink.to_csv('starlink_tles.csv', index=False)\n"
      ]
    },
    {
      "cell_type": "code",
      "source": [],
      "metadata": {
        "id": "sav_OfxFNNa9"
      },
      "execution_count": null,
      "outputs": []
    }
  ]
}